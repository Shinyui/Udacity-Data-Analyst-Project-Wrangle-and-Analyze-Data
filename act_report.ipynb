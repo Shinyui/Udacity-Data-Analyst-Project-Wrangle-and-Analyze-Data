{
 "cells": [
  {
   "cell_type": "markdown",
   "metadata": {},
   "source": [
    "# Analysis & Visualization of @weRateDogs\n",
    "\n",
    "## Motivation\n",
    "WeRateDogs is a Twitter account that rates people's dogs with a humorous comment about the dog. In this analysis, we're trying to get interesting facts from the datasets\n",
    "\n",
    "## Results\n",
    "### Question 1 - What are the popular dog names?\n",
    "<img src=\"top_name.png\">\n",
    "As the chart shown above, the most popular dog name is Lucy followed by Cooper, Oliver, Penny, Tucker, Bo etc.\n",
    "\n",
    "### Question 2 - What's the popularity of @weRateDogs?\n",
    "<img src=\"popularity_y.png\">\n",
    "<img src=\"popularity_m.png\">\n",
    "<img src=\"popularity_d.png\">\n",
    "From the charts above, it seems like the popularity of @weRateDog reached its peak in 2016 and generally decrease over time. However, from month's perspective, it seems like the popularity went down a bit after April 2016 and started to rise again in July 2016. However, the popularity wasn't able to reach the peak that was created in early 2016. Hence, we can conlude that the @weRateDog wasn't popluar than before and the poularity started to go down after Jan 2016.\n",
    "\n",
    "### Question 3 - If the popluarity went down, what about the count of retweet and favorite?\n",
    "<img src=\"favorite_retweet.png\">\n",
    "Despite the descrease of popularity, the count of retweet and favorite increases overtime. It's interesting because we saw the descrease of the tweets of @weRateDogs meaning that there should be less popluarity and hence affect the number of retweet and favorite. The only conclusion we can make based on this result is that less tweets made by @weRateDogs simply indicate the \"quantity\" went down and the \"quality\" remain unaffected. "
   ]
  }
 ],
 "metadata": {
  "kernelspec": {
   "display_name": "Python 3",
   "language": "python",
   "name": "python3"
  },
  "language_info": {
   "codemirror_mode": {
    "name": "ipython",
    "version": 3
   },
   "file_extension": ".py",
   "mimetype": "text/x-python",
   "name": "python",
   "nbconvert_exporter": "python",
   "pygments_lexer": "ipython3",
   "version": "3.7.4"
  }
 },
 "nbformat": 4,
 "nbformat_minor": 4
}
